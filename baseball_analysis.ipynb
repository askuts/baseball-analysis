{
  "nbformat": 4,
  "nbformat_minor": 0,
  "metadata": {
    "kernelspec": {
      "display_name": "Python 3",
      "language": "python",
      "name": "python3"
    },
    "language_info": {
      "codemirror_mode": {
        "name": "ipython",
        "version": 3
      },
      "file_extension": ".py",
      "mimetype": "text/x-python",
      "name": "python",
      "nbconvert_exporter": "python",
      "pygments_lexer": "ipython3",
      "version": "3.7.4"
    },
    "colab": {
      "provenance": [],
      "include_colab_link": true
    }
  },
  "cells": [
    {
      "cell_type": "markdown",
      "metadata": {
        "id": "view-in-github",
        "colab_type": "text"
      },
      "source": [
        "<a href=\"https://colab.research.google.com/github/askuts/baseball-analysis/blob/main/baseball_analysis.ipynb\" target=\"_parent\"><img src=\"https://colab.research.google.com/assets/colab-badge.svg\" alt=\"Open In Colab\"/></a>"
      ]
    },
    {
      "cell_type": "markdown",
      "metadata": {
        "id": "LiVICfU0agJ9"
      },
      "source": [
        "https://www.kaggle.com/drgilermo/nba-players-stats - ссылка на набор данных"
      ]
    },
    {
      "cell_type": "code",
      "metadata": {
        "id": "WYy5rmpXagJ9",
        "outputId": "84b43322-cb65-4ab8-8810-278a9b003c7d"
      },
      "source": [
        "# сделаю импорты необходимых библиотек\n",
        "import numpy as np\n",
        "import pandas as pd\n",
        "import seaborn as sns\n",
        "import matplotlib.pyplot as plt\n",
        "%pylab inline"
      ],
      "execution_count": null,
      "outputs": [
        {
          "output_type": "stream",
          "text": [
            "Populating the interactive namespace from numpy and matplotlib\n"
          ],
          "name": "stdout"
        }
      ]
    },
    {
      "cell_type": "code",
      "metadata": {
        "id": "puA0dTBoagKD",
        "outputId": "598789c7-be30-4c56-e69c-b362e3d092ee"
      },
      "source": [
        "# загружу набор данных\n",
        "data = pd.read_csv('Players.csv')\n",
        "data = data.drop(columns=['Unnamed: 0'])\n",
        "data"
      ],
      "execution_count": null,
      "outputs": [
        {
          "output_type": "execute_result",
          "data": {
            "text/html": [
              "<div>\n",
              "<style scoped>\n",
              "    .dataframe tbody tr th:only-of-type {\n",
              "        vertical-align: middle;\n",
              "    }\n",
              "\n",
              "    .dataframe tbody tr th {\n",
              "        vertical-align: top;\n",
              "    }\n",
              "\n",
              "    .dataframe thead th {\n",
              "        text-align: right;\n",
              "    }\n",
              "</style>\n",
              "<table border=\"1\" class=\"dataframe\">\n",
              "  <thead>\n",
              "    <tr style=\"text-align: right;\">\n",
              "      <th></th>\n",
              "      <th>Player</th>\n",
              "      <th>height</th>\n",
              "      <th>weight</th>\n",
              "      <th>collage</th>\n",
              "      <th>born</th>\n",
              "      <th>birth_city</th>\n",
              "      <th>birth_state</th>\n",
              "    </tr>\n",
              "  </thead>\n",
              "  <tbody>\n",
              "    <tr>\n",
              "      <td>0</td>\n",
              "      <td>Curly Armstrong</td>\n",
              "      <td>180.0</td>\n",
              "      <td>77.0</td>\n",
              "      <td>Indiana University</td>\n",
              "      <td>1918.0</td>\n",
              "      <td>NaN</td>\n",
              "      <td>NaN</td>\n",
              "    </tr>\n",
              "    <tr>\n",
              "      <td>1</td>\n",
              "      <td>Cliff Barker</td>\n",
              "      <td>188.0</td>\n",
              "      <td>83.0</td>\n",
              "      <td>University of Kentucky</td>\n",
              "      <td>1921.0</td>\n",
              "      <td>Yorktown</td>\n",
              "      <td>Indiana</td>\n",
              "    </tr>\n",
              "    <tr>\n",
              "      <td>2</td>\n",
              "      <td>Leo Barnhorst</td>\n",
              "      <td>193.0</td>\n",
              "      <td>86.0</td>\n",
              "      <td>University of Notre Dame</td>\n",
              "      <td>1924.0</td>\n",
              "      <td>NaN</td>\n",
              "      <td>NaN</td>\n",
              "    </tr>\n",
              "    <tr>\n",
              "      <td>3</td>\n",
              "      <td>Ed Bartels</td>\n",
              "      <td>196.0</td>\n",
              "      <td>88.0</td>\n",
              "      <td>North Carolina State University</td>\n",
              "      <td>1925.0</td>\n",
              "      <td>NaN</td>\n",
              "      <td>NaN</td>\n",
              "    </tr>\n",
              "    <tr>\n",
              "      <td>4</td>\n",
              "      <td>Ralph Beard</td>\n",
              "      <td>178.0</td>\n",
              "      <td>79.0</td>\n",
              "      <td>University of Kentucky</td>\n",
              "      <td>1927.0</td>\n",
              "      <td>Hardinsburg</td>\n",
              "      <td>Kentucky</td>\n",
              "    </tr>\n",
              "    <tr>\n",
              "      <td>...</td>\n",
              "      <td>...</td>\n",
              "      <td>...</td>\n",
              "      <td>...</td>\n",
              "      <td>...</td>\n",
              "      <td>...</td>\n",
              "      <td>...</td>\n",
              "      <td>...</td>\n",
              "    </tr>\n",
              "    <tr>\n",
              "      <td>3917</td>\n",
              "      <td>Troy Williams</td>\n",
              "      <td>198.0</td>\n",
              "      <td>97.0</td>\n",
              "      <td>South Carolina State University</td>\n",
              "      <td>1969.0</td>\n",
              "      <td>Columbia</td>\n",
              "      <td>South Carolina</td>\n",
              "    </tr>\n",
              "    <tr>\n",
              "      <td>3918</td>\n",
              "      <td>Kyle Wiltjer</td>\n",
              "      <td>208.0</td>\n",
              "      <td>108.0</td>\n",
              "      <td>Gonzaga University</td>\n",
              "      <td>1992.0</td>\n",
              "      <td>Portland</td>\n",
              "      <td>Oregon</td>\n",
              "    </tr>\n",
              "    <tr>\n",
              "      <td>3919</td>\n",
              "      <td>Stephen Zimmerman</td>\n",
              "      <td>213.0</td>\n",
              "      <td>108.0</td>\n",
              "      <td>University of Nevada, Las Vegas</td>\n",
              "      <td>1996.0</td>\n",
              "      <td>Hendersonville</td>\n",
              "      <td>Tennessee</td>\n",
              "    </tr>\n",
              "    <tr>\n",
              "      <td>3920</td>\n",
              "      <td>Paul Zipser</td>\n",
              "      <td>203.0</td>\n",
              "      <td>97.0</td>\n",
              "      <td>NaN</td>\n",
              "      <td>1994.0</td>\n",
              "      <td>Heidelberg</td>\n",
              "      <td>Germany</td>\n",
              "    </tr>\n",
              "    <tr>\n",
              "      <td>3921</td>\n",
              "      <td>Ivica Zubac</td>\n",
              "      <td>216.0</td>\n",
              "      <td>120.0</td>\n",
              "      <td>NaN</td>\n",
              "      <td>1997.0</td>\n",
              "      <td>Mostar</td>\n",
              "      <td>Bosnia and Herzegovina</td>\n",
              "    </tr>\n",
              "  </tbody>\n",
              "</table>\n",
              "<p>3922 rows × 7 columns</p>\n",
              "</div>"
            ],
            "text/plain": [
              "                 Player  height  weight                          collage  \\\n",
              "0       Curly Armstrong   180.0    77.0               Indiana University   \n",
              "1          Cliff Barker   188.0    83.0           University of Kentucky   \n",
              "2         Leo Barnhorst   193.0    86.0         University of Notre Dame   \n",
              "3            Ed Bartels   196.0    88.0  North Carolina State University   \n",
              "4           Ralph Beard   178.0    79.0           University of Kentucky   \n",
              "...                 ...     ...     ...                              ...   \n",
              "3917      Troy Williams   198.0    97.0  South Carolina State University   \n",
              "3918       Kyle Wiltjer   208.0   108.0               Gonzaga University   \n",
              "3919  Stephen Zimmerman   213.0   108.0  University of Nevada, Las Vegas   \n",
              "3920        Paul Zipser   203.0    97.0                              NaN   \n",
              "3921        Ivica Zubac   216.0   120.0                              NaN   \n",
              "\n",
              "        born      birth_city             birth_state  \n",
              "0     1918.0             NaN                     NaN  \n",
              "1     1921.0        Yorktown                 Indiana  \n",
              "2     1924.0             NaN                     NaN  \n",
              "3     1925.0             NaN                     NaN  \n",
              "4     1927.0     Hardinsburg                Kentucky  \n",
              "...      ...             ...                     ...  \n",
              "3917  1969.0        Columbia          South Carolina  \n",
              "3918  1992.0        Portland                  Oregon  \n",
              "3919  1996.0  Hendersonville               Tennessee  \n",
              "3920  1994.0      Heidelberg                 Germany  \n",
              "3921  1997.0          Mostar  Bosnia and Herzegovina  \n",
              "\n",
              "[3922 rows x 7 columns]"
            ]
          },
          "metadata": {
            "tags": []
          },
          "execution_count": 2
        }
      ]
    },
    {
      "cell_type": "code",
      "metadata": {
        "id": "ZDjtTbGKagKH"
      },
      "source": [
        "data = data.dropna() # исключим из данных объекты с пропусками"
      ],
      "execution_count": null,
      "outputs": []
    },
    {
      "cell_type": "code",
      "metadata": {
        "id": "G3HVoHdzagKJ",
        "outputId": "c679e51c-2384-43d5-8e28-0d9a2eae3016"
      },
      "source": [
        "data.info() # в данных осталось 3189 объектов"
      ],
      "execution_count": null,
      "outputs": [
        {
          "output_type": "stream",
          "text": [
            "<class 'pandas.core.frame.DataFrame'>\n",
            "Int64Index: 3189 entries, 1 to 3919\n",
            "Data columns (total 7 columns):\n",
            "Player         3189 non-null object\n",
            "height         3189 non-null float64\n",
            "weight         3189 non-null float64\n",
            "collage        3189 non-null object\n",
            "born           3189 non-null float64\n",
            "birth_city     3189 non-null object\n",
            "birth_state    3189 non-null object\n",
            "dtypes: float64(3), object(4)\n",
            "memory usage: 199.3+ KB\n"
          ],
          "name": "stdout"
        }
      ]
    },
    {
      "cell_type": "code",
      "metadata": {
        "id": "9wqEtAhoagKM"
      },
      "source": [
        "cat = ['Player', 'collage', 'birth_city', 'birth_state'] # выделим\n",
        "# категориальные признаки\n",
        "nums = [c for c in data.columns if c not in cat] # наполним массив\n",
        "# с названиями числовых признаков"
      ],
      "execution_count": null,
      "outputs": []
    },
    {
      "cell_type": "code",
      "metadata": {
        "id": "IF1WSa-VagKP",
        "outputId": "877498ac-f856-488e-9737-51b9d3cb46fe"
      },
      "source": [
        "data[nums].describe()"
      ],
      "execution_count": null,
      "outputs": [
        {
          "output_type": "execute_result",
          "data": {
            "text/html": [
              "<div>\n",
              "<style scoped>\n",
              "    .dataframe tbody tr th:only-of-type {\n",
              "        vertical-align: middle;\n",
              "    }\n",
              "\n",
              "    .dataframe tbody tr th {\n",
              "        vertical-align: top;\n",
              "    }\n",
              "\n",
              "    .dataframe thead th {\n",
              "        text-align: right;\n",
              "    }\n",
              "</style>\n",
              "<table border=\"1\" class=\"dataframe\">\n",
              "  <thead>\n",
              "    <tr style=\"text-align: right;\">\n",
              "      <th></th>\n",
              "      <th>height</th>\n",
              "      <th>weight</th>\n",
              "      <th>born</th>\n",
              "    </tr>\n",
              "  </thead>\n",
              "  <tbody>\n",
              "    <tr>\n",
              "      <td>count</td>\n",
              "      <td>3189.000000</td>\n",
              "      <td>3189.000000</td>\n",
              "      <td>3189.000000</td>\n",
              "    </tr>\n",
              "    <tr>\n",
              "      <td>mean</td>\n",
              "      <td>198.663531</td>\n",
              "      <td>94.723424</td>\n",
              "      <td>1964.063656</td>\n",
              "    </tr>\n",
              "    <tr>\n",
              "      <td>std</td>\n",
              "      <td>9.043461</td>\n",
              "      <td>11.804876</td>\n",
              "      <td>18.604145</td>\n",
              "    </tr>\n",
              "    <tr>\n",
              "      <td>min</td>\n",
              "      <td>160.000000</td>\n",
              "      <td>60.000000</td>\n",
              "      <td>1915.000000</td>\n",
              "    </tr>\n",
              "    <tr>\n",
              "      <td>25%</td>\n",
              "      <td>193.000000</td>\n",
              "      <td>86.000000</td>\n",
              "      <td>1952.000000</td>\n",
              "    </tr>\n",
              "    <tr>\n",
              "      <td>50%</td>\n",
              "      <td>198.000000</td>\n",
              "      <td>95.000000</td>\n",
              "      <td>1965.000000</td>\n",
              "    </tr>\n",
              "    <tr>\n",
              "      <td>75%</td>\n",
              "      <td>206.000000</td>\n",
              "      <td>102.000000</td>\n",
              "      <td>1979.000000</td>\n",
              "    </tr>\n",
              "    <tr>\n",
              "      <td>max</td>\n",
              "      <td>231.000000</td>\n",
              "      <td>163.000000</td>\n",
              "      <td>1997.000000</td>\n",
              "    </tr>\n",
              "  </tbody>\n",
              "</table>\n",
              "</div>"
            ],
            "text/plain": [
              "            height       weight         born\n",
              "count  3189.000000  3189.000000  3189.000000\n",
              "mean    198.663531    94.723424  1964.063656\n",
              "std       9.043461    11.804876    18.604145\n",
              "min     160.000000    60.000000  1915.000000\n",
              "25%     193.000000    86.000000  1952.000000\n",
              "50%     198.000000    95.000000  1965.000000\n",
              "75%     206.000000   102.000000  1979.000000\n",
              "max     231.000000   163.000000  1997.000000"
            ]
          },
          "metadata": {
            "tags": []
          },
          "execution_count": 6
        }
      ]
    },
    {
      "cell_type": "markdown",
      "metadata": {
        "id": "_utuRScWagKR"
      },
      "source": [
        "В среднем, рост баскетболиста 198см, вес почти 95 кг.  \n",
        "Самый высокий из учтенных баскетболистов был ростом 231см, самый низкий 160см.  \n",
        "Самый тяжелый весил 163кг, самый низкий вес баскетболиста 60кг."
      ]
    },
    {
      "cell_type": "code",
      "metadata": {
        "id": "wvR9vyCSagKT",
        "outputId": "1548c108-a4aa-41e2-89f7-9860f95271f0"
      },
      "source": [
        "def get_highest(data, feature): # определим функцию, определяющую как звали/зовут\n",
        "# самого высокого и самого тяжелого баскетболистов\n",
        "    # кол-во очков и признак\n",
        "    print(data.loc[data[feature] == data[feature].max(), 'Player'].unique()[0], # определим имя\n",
        "          'was {val} in {f}'.format(val=data[feature].max(), f=feature)) # сколько единиц и какой признак\n",
        "\n",
        "get_highest(data, 'height')\n",
        "get_highest(data, 'weight')"
      ],
      "execution_count": null,
      "outputs": [
        {
          "output_type": "stream",
          "text": [
            "Manute Bol was 231.0 in height\n",
            "Sim Bhullar was 163.0 in weight\n"
          ],
          "name": "stdout"
        }
      ]
    },
    {
      "cell_type": "code",
      "metadata": {
        "id": "03jVTsNbagKY",
        "outputId": "dedf1747-0d9d-4067-ae26-ddda8aaee4ab"
      },
      "source": [
        "# проделаем то же самое для самых низких по показателям\n",
        "\n",
        "def get_worst(data, feature):\n",
        "    print(data.loc[data[feature] == data[feature].min(), 'Player'].unique()[0],\n",
        "          'was {val} in {f}'.format(val=data[feature].min(), f=feature))\n",
        "\n",
        "get_worst(data, 'height')\n",
        "get_worst(data, 'weight')"
      ],
      "execution_count": null,
      "outputs": [
        {
          "output_type": "stream",
          "text": [
            "Muggsy Bogues was 160.0 in height\n",
            "Spud Webb was 60.0 in weight\n"
          ],
          "name": "stdout"
        }
      ]
    },
    {
      "cell_type": "code",
      "metadata": {
        "id": "Gn3s2A0UagKa",
        "outputId": "5ea5a5ae-2a72-46c8-dc73-b7e7de1f57b4"
      },
      "source": [
        "data[cat].describe()"
      ],
      "execution_count": null,
      "outputs": [
        {
          "output_type": "execute_result",
          "data": {
            "text/html": [
              "<div>\n",
              "<style scoped>\n",
              "    .dataframe tbody tr th:only-of-type {\n",
              "        vertical-align: middle;\n",
              "    }\n",
              "\n",
              "    .dataframe tbody tr th {\n",
              "        vertical-align: top;\n",
              "    }\n",
              "\n",
              "    .dataframe thead th {\n",
              "        text-align: right;\n",
              "    }\n",
              "</style>\n",
              "<table border=\"1\" class=\"dataframe\">\n",
              "  <thead>\n",
              "    <tr style=\"text-align: right;\">\n",
              "      <th></th>\n",
              "      <th>Player</th>\n",
              "      <th>collage</th>\n",
              "      <th>birth_city</th>\n",
              "      <th>birth_state</th>\n",
              "    </tr>\n",
              "  </thead>\n",
              "  <tbody>\n",
              "    <tr>\n",
              "      <td>count</td>\n",
              "      <td>3189</td>\n",
              "      <td>3189</td>\n",
              "      <td>3189</td>\n",
              "      <td>3189</td>\n",
              "    </tr>\n",
              "    <tr>\n",
              "      <td>unique</td>\n",
              "      <td>3189</td>\n",
              "      <td>392</td>\n",
              "      <td>1108</td>\n",
              "      <td>111</td>\n",
              "    </tr>\n",
              "    <tr>\n",
              "      <td>top</td>\n",
              "      <td>Joe Cooper</td>\n",
              "      <td>University of Kentucky</td>\n",
              "      <td>Chicago</td>\n",
              "      <td>California</td>\n",
              "    </tr>\n",
              "    <tr>\n",
              "      <td>freq</td>\n",
              "      <td>1</td>\n",
              "      <td>84</td>\n",
              "      <td>112</td>\n",
              "      <td>337</td>\n",
              "    </tr>\n",
              "  </tbody>\n",
              "</table>\n",
              "</div>"
            ],
            "text/plain": [
              "            Player                 collage birth_city birth_state\n",
              "count         3189                    3189       3189        3189\n",
              "unique        3189                     392       1108         111\n",
              "top     Joe Cooper  University of Kentucky    Chicago  California\n",
              "freq             1                      84        112         337"
            ]
          },
          "metadata": {
            "tags": []
          },
          "execution_count": 9
        }
      ]
    },
    {
      "cell_type": "markdown",
      "metadata": {
        "id": "pYHXJ75jagKe"
      },
      "source": [
        "Высшим учебным заведением, открывшим свету больше всего баскетболистов, стал Университет Калифорнии.  \n",
        "Городом, из которого вышло больше всего баскетболистов стал Чикаго.  \n",
        "Штат, как понятно из названия университета - Калифорния."
      ]
    },
    {
      "cell_type": "markdown",
      "metadata": {
        "id": "HUXwZsC9agKe"
      },
      "source": [
        "### Графики"
      ]
    },
    {
      "cell_type": "markdown",
      "metadata": {
        "id": "jRFGc7JsagKg"
      },
      "source": [
        "Можно провизуализировать числовые признаки с помощью kdeplot, а для категориальных, помимо имени, определить функцию, которая будет строить countplot для 10 самых популярных значений в признаке."
      ]
    },
    {
      "cell_type": "code",
      "metadata": {
        "id": "zL3FM3DeagKh",
        "outputId": "be5126da-d73f-41dc-8d99-98c968c61648"
      },
      "source": [
        "data.corr() # проверим, насколько коррелируют признаки"
      ],
      "execution_count": null,
      "outputs": [
        {
          "output_type": "execute_result",
          "data": {
            "text/html": [
              "<div>\n",
              "<style scoped>\n",
              "    .dataframe tbody tr th:only-of-type {\n",
              "        vertical-align: middle;\n",
              "    }\n",
              "\n",
              "    .dataframe tbody tr th {\n",
              "        vertical-align: top;\n",
              "    }\n",
              "\n",
              "    .dataframe thead th {\n",
              "        text-align: right;\n",
              "    }\n",
              "</style>\n",
              "<table border=\"1\" class=\"dataframe\">\n",
              "  <thead>\n",
              "    <tr style=\"text-align: right;\">\n",
              "      <th></th>\n",
              "      <th>height</th>\n",
              "      <th>weight</th>\n",
              "      <th>born</th>\n",
              "    </tr>\n",
              "  </thead>\n",
              "  <tbody>\n",
              "    <tr>\n",
              "      <td>height</td>\n",
              "      <td>1.000000</td>\n",
              "      <td>0.817434</td>\n",
              "      <td>0.182217</td>\n",
              "    </tr>\n",
              "    <tr>\n",
              "      <td>weight</td>\n",
              "      <td>0.817434</td>\n",
              "      <td>1.000000</td>\n",
              "      <td>0.290262</td>\n",
              "    </tr>\n",
              "    <tr>\n",
              "      <td>born</td>\n",
              "      <td>0.182217</td>\n",
              "      <td>0.290262</td>\n",
              "      <td>1.000000</td>\n",
              "    </tr>\n",
              "  </tbody>\n",
              "</table>\n",
              "</div>"
            ],
            "text/plain": [
              "          height    weight      born\n",
              "height  1.000000  0.817434  0.182217\n",
              "weight  0.817434  1.000000  0.290262\n",
              "born    0.182217  0.290262  1.000000"
            ]
          },
          "metadata": {
            "tags": []
          },
          "execution_count": 10
        }
      ]
    },
    {
      "cell_type": "markdown",
      "metadata": {
        "id": "dq-o2zBfagKl"
      },
      "source": [
        "Видно, что рост коррелирует с весом на 0.817"
      ]
    },
    {
      "cell_type": "code",
      "metadata": {
        "id": "0LzBb65CagKl",
        "outputId": "6aecbcf5-ce5f-427e-9c73-8ffb0326e1bd"
      },
      "source": [
        "fig, axes = plt.subplots(3, 1, figsize=(8,12)) # разделение графика на подграфики\n",
        "fig.tight_layout(pad=5) # настройка отступа между графиками\n",
        "for i in range(len(nums)):\n",
        "    # построение графиков по числовым данным\n",
        "    sns.kdeplot(data[nums[i]], shade=True, ax=axes[i], color='orange')\n",
        "    axes[i].set_xlabel(nums[i])"
      ],
      "execution_count": null,
      "outputs": [
        {
          "output_type": "display_data",
          "data": {
            "image/png": "[encoded data removed]",
            "text/plain": [
              "<Figure size 576x864 with 3 Axes>"
            ]
          },
          "metadata": {
            "tags": [],
            "needs_background": "light"
          }
        }
      ]
    },
    {
      "cell_type": "markdown",
      "metadata": {
        "id": "W3IzujGHagKo"
      },
      "source": [
        "По этим графикам понятно, что с годами баскетбол становился все популярнее и пик по рождаемости баскетболистов был где-то в 1970х годах.  \n",
        "Большая часть баскетболистов выше 2м и весят от 80 до 100кг."
      ]
    },
    {
      "cell_type": "code",
      "metadata": {
        "id": "Voit5uYtagKp",
        "outputId": "f743a1a8-879d-4829-c7af-dda5d2b05af2"
      },
      "source": [
        "# построим боксплоты\n",
        "fig, axes = plt.subplots(3, 1, figsize=(12,16))\n",
        "fig.tight_layout(pad=5)\n",
        "for i in range(len(nums)):\n",
        "    sns.boxplot(x=nums[i], data=data, ax=axes[i], color='orange')\n",
        "    axes[i].set_title(\"{name} boxplot\".format(name = nums[i]), fontsize = 14)"
      ],
      "execution_count": null,
      "outputs": [
        {
          "output_type": "display_data",
          "data": {
            "image/png": "[encoded data removed]",
            "text/plain": [
              "<Figure size 864x1152 with 3 Axes>"
            ]
          },
          "metadata": {
            "tags": [],
            "needs_background": "light"
          }
        }
      ]
    },
    {
      "cell_type": "markdown",
      "metadata": {
        "id": "5_k81L0pagKr"
      },
      "source": [
        "По этому же графику видно, что 50% баскетболистов весят от 85 до 102кг.   \n",
        "Так же 50% имеют рост от 195 до 205см."
      ]
    },
    {
      "cell_type": "code",
      "metadata": {
        "id": "5KrXNx9MagKs"
      },
      "source": [
        "def get_top_ten_plot(data, feature): # определим функцию для построения графика\n",
        "    fig, ax = plt.subplots(figsize=(12,8)) # зададим размер графика\n",
        "    plt.bar(data[feature].value_counts().keys()[:11], data[feature].value_counts().values[:11]) # построим барплот\n",
        "    ax.set_xticklabels(data[feature].value_counts().keys(), rotation=90) # настроим названия столбцов"
      ],
      "execution_count": null,
      "outputs": []
    },
    {
      "cell_type": "code",
      "metadata": {
        "id": "Yv2eC04oagKu",
        "outputId": "39c6a550-caeb-47ae-dc28-ffc957a581fe"
      },
      "source": [
        "for c in list(set(cat) - set(['Player'])):\n",
        "    get_top_ten_plot(data, c)"
      ],
      "execution_count": null,
      "outputs": [
        {
          "output_type": "display_data",
          "data": {
            "image/png": "[encoded data removed]",
            "text/plain": [
              "<Figure size 864x576 with 1 Axes>"
            ]
          },
          "metadata": {
            "tags": [],
            "needs_background": "light"
          }
        },
        {
          "output_type": "display_data",
          "data": {
            "image/png": "[encoded data removed]",
            "text/plain": [
              "<Figure size 864x576 with 1 Axes>"
            ]
          },
          "metadata": {
            "tags": [],
            "needs_background": "light"
          }
        },
        {
          "output_type": "display_data",
          "data": {
            "image/png": "[encoded data removed]",
            "text/plain": [
              "<Figure size 864x576 with 1 Axes>"
            ]
          },
          "metadata": {
            "tags": [],
            "needs_background": "light"
          }
        }
      ]
    },
    {
      "cell_type": "markdown",
      "metadata": {
        "id": "AUfDzfNBagKx"
      },
      "source": [
        "Нью-Йорк является 2 по кол-ву родившихся в нем игроков и только 5 городом.  \n",
        "Лучший штат, как уже было отмечено- Калифорния, а город- Чикаго.  \n",
        "На равне с Калифорнийским, лидерством может похвастаться университет Кентуки."
      ]
    },
    {
      "cell_type": "markdown",
      "metadata": {
        "id": "P_utLordagKy"
      },
      "source": [
        "По итогу, можно сказать, что набор данных обработан и проанализирован.  \n",
        "Наиболее важная и интересная информация провизуализирована."
      ]
    }
  ]
}